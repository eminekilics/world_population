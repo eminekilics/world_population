{
  "nbformat": 4,
  "nbformat_minor": 0,
  "metadata": {
    "colab": {
      "provenance": [],
      "authorship_tag": "ABX9TyPQU7x3zGgUBRZCaOKhH9D+",
      "include_colab_link": true
    },
    "kernelspec": {
      "name": "python3",
      "display_name": "Python 3"
    },
    "language_info": {
      "name": "python"
    }
  },
  "cells": [
    {
      "cell_type": "markdown",
      "metadata": {
        "id": "view-in-github",
        "colab_type": "text"
      },
      "source": [
        "<a href=\"https://colab.research.google.com/github/eminekilics/world_population/blob/main/world_population_dataset.ipynb\" target=\"_parent\"><img src=\"https://colab.research.google.com/assets/colab-badge.svg\" alt=\"Open In Colab\"/></a>"
      ]
    },
    {
      "cell_type": "markdown",
      "source": [
        "importing necessary libraries"
      ],
      "metadata": {
        "id": "AlFtz9l2kj4E"
      }
    },
    {
      "cell_type": "code",
      "execution_count": null,
      "metadata": {
        "id": "QnXdzMUdkQt6"
      },
      "outputs": [],
      "source": [
        "import pandas as pd\n",
        "import matplotlib.pyplot as plt"
      ]
    },
    {
      "cell_type": "markdown",
      "source": [
        "loading the dataset"
      ],
      "metadata": {
        "id": "iW_rNcO9krsW"
      }
    },
    {
      "cell_type": "code",
      "source": [
        "df = pd.read_csv(\"world_population.csv\")"
      ],
      "metadata": {
        "id": "sFdVQrrWkil4"
      },
      "execution_count": null,
      "outputs": []
    },
    {
      "cell_type": "code",
      "source": [
        "print(df.columns)"
      ],
      "metadata": {
        "colab": {
          "base_uri": "https://localhost:8080/"
        },
        "id": "_sNr9Mqds6wi",
        "outputId": "c8488db9-c3cf-4686-fd6b-9e1862a02cc2"
      },
      "execution_count": 25,
      "outputs": [
        {
          "output_type": "stream",
          "name": "stdout",
          "text": [
            "Index(['Rank', 'CCA3', 'Country/Territory', 'Capital', 'Continent',\n",
            "       '2022 Population', '2020 Population', '2015 Population',\n",
            "       '2010 Population', '2000 Population', '1990 Population',\n",
            "       '1980 Population', '1970 Population', 'Area (km²)', 'Density (per km²)',\n",
            "       'Growth Rate', 'World Population Percentage'],\n",
            "      dtype='object')\n"
          ]
        }
      ]
    },
    {
      "cell_type": "markdown",
      "source": [
        "first 5 rows"
      ],
      "metadata": {
        "id": "V57HTa64lJv-"
      }
    },
    {
      "cell_type": "code",
      "source": [
        "print(df.head())"
      ],
      "metadata": {
        "colab": {
          "base_uri": "https://localhost:8080/"
        },
        "id": "VygNvKNwlQ3A",
        "outputId": "e976c6f6-9231-470e-cd87-d766f1e598b7"
      },
      "execution_count": null,
      "outputs": [
        {
          "output_type": "stream",
          "name": "stdout",
          "text": [
            "   Rank CCA3 Country/Territory           Capital Continent  2022 Population  \\\n",
            "0    36  AFG       Afghanistan             Kabul      Asia         41128771   \n",
            "1   138  ALB           Albania            Tirana    Europe          2842321   \n",
            "2    34  DZA           Algeria           Algiers    Africa         44903225   \n",
            "3   213  ASM    American Samoa         Pago Pago   Oceania            44273   \n",
            "4   203  AND           Andorra  Andorra la Vella    Europe            79824   \n",
            "\n",
            "   2020 Population  2015 Population  2010 Population  2000 Population  \\\n",
            "0         38972230         33753499         28189672         19542982   \n",
            "1          2866849          2882481          2913399          3182021   \n",
            "2         43451666         39543154         35856344         30774621   \n",
            "3            46189            51368            54849            58230   \n",
            "4            77700            71746            71519            66097   \n",
            "\n",
            "   1990 Population  1980 Population  1970 Population  Area (km²)  \\\n",
            "0         10694796         12486631         10752971      652230   \n",
            "1          3295066          2941651          2324731       28748   \n",
            "2         25518074         18739378         13795915     2381741   \n",
            "3            47818            32886            27075         199   \n",
            "4            53569            35611            19860         468   \n",
            "\n",
            "   Density (per km²)  Growth Rate  World Population Percentage  \n",
            "0            63.0587       1.0257                         0.52  \n",
            "1            98.8702       0.9957                         0.04  \n",
            "2            18.8531       1.0164                         0.56  \n",
            "3           222.4774       0.9831                         0.00  \n",
            "4           170.5641       1.0100                         0.00  \n"
          ]
        }
      ]
    },
    {
      "cell_type": "markdown",
      "source": [
        "basic statics"
      ],
      "metadata": {
        "id": "92U-dlzflVPi"
      }
    },
    {
      "cell_type": "code",
      "source": [
        "print(df.describe())"
      ],
      "metadata": {
        "colab": {
          "base_uri": "https://localhost:8080/"
        },
        "id": "XPlmgl9albtE",
        "outputId": "b2f62bc8-d597-4cf7-efd8-e621aa020ed1"
      },
      "execution_count": null,
      "outputs": [
        {
          "output_type": "stream",
          "name": "stdout",
          "text": [
            "             Rank  2022 Population  2020 Population  2015 Population  \\\n",
            "count  234.000000     2.340000e+02     2.340000e+02     2.340000e+02   \n",
            "mean   117.500000     3.407441e+07     3.350107e+07     3.172996e+07   \n",
            "std     67.694165     1.367664e+08     1.355899e+08     1.304050e+08   \n",
            "min      1.000000     5.100000e+02     5.200000e+02     5.640000e+02   \n",
            "25%     59.250000     4.197385e+05     4.152845e+05     4.046760e+05   \n",
            "50%    117.500000     5.559944e+06     5.493074e+06     5.307400e+06   \n",
            "75%    175.750000     2.247650e+07     2.144798e+07     1.973085e+07   \n",
            "max    234.000000     1.425887e+09     1.424930e+09     1.393715e+09   \n",
            "\n",
            "       2010 Population  2000 Population  1990 Population  1980 Population  \\\n",
            "count     2.340000e+02     2.340000e+02     2.340000e+02     2.340000e+02   \n",
            "mean      2.984524e+07     2.626947e+07     2.271022e+07     1.898462e+07   \n",
            "std       1.242185e+08     1.116982e+08     9.783217e+07     8.178519e+07   \n",
            "min       5.960000e+02     6.510000e+02     7.000000e+02     7.330000e+02   \n",
            "25%       3.931490e+05     3.272420e+05     2.641158e+05     2.296142e+05   \n",
            "50%       4.942770e+06     4.292907e+06     3.825410e+06     3.141146e+06   \n",
            "75%       1.915957e+07     1.576230e+07     1.186923e+07     9.826054e+06   \n",
            "max       1.348191e+09     1.264099e+09     1.153704e+09     9.823725e+08   \n",
            "\n",
            "       1970 Population    Area (km²)  Density (per km²)  Growth Rate  \\\n",
            "count     2.340000e+02  2.340000e+02         234.000000   234.000000   \n",
            "mean      1.578691e+07  5.814494e+05         452.127044     1.009577   \n",
            "std       6.779509e+07  1.761841e+06        2066.121904     0.013385   \n",
            "min       7.520000e+02  1.000000e+00           0.026100     0.912000   \n",
            "25%       1.559970e+05  2.650000e+03          38.417875     1.001775   \n",
            "50%       2.604830e+06  8.119950e+04          95.346750     1.007900   \n",
            "75%       8.817329e+06  4.304258e+05         238.933250     1.016950   \n",
            "max       8.225344e+08  1.709824e+07       23172.266700     1.069100   \n",
            "\n",
            "       World Population Percentage  \n",
            "count                   234.000000  \n",
            "mean                      0.427051  \n",
            "std                       1.714977  \n",
            "min                       0.000000  \n",
            "25%                       0.010000  \n",
            "50%                       0.070000  \n",
            "75%                       0.280000  \n",
            "max                      17.880000  \n"
          ]
        }
      ]
    },
    {
      "cell_type": "markdown",
      "source": [
        "convert pivot table to long format"
      ],
      "metadata": {
        "id": "yPyRXUbtrsbK"
      }
    },
    {
      "cell_type": "code",
      "source": [
        "year_columns = [col for col in df.columns if \"Population\" in col]"
      ],
      "metadata": {
        "id": "fb3T3-JfrzvC"
      },
      "execution_count": 26,
      "outputs": []
    },
    {
      "cell_type": "markdown",
      "source": [
        "choose only population columns"
      ],
      "metadata": {
        "id": "gVmp3Ag6umrs"
      }
    },
    {
      "cell_type": "code",
      "source": [
        "df_long = df.melt(id_vars=['Country/Territory'], value_vars=year_columns, var_name='Year', value_name='Population')\n"
      ],
      "metadata": {
        "id": "y-ZZDoSjttpJ"
      },
      "execution_count": 28,
      "outputs": []
    },
    {
      "cell_type": "markdown",
      "source": [
        "set int in the year column"
      ],
      "metadata": {
        "id": "fpyVi2IksO66"
      }
    },
    {
      "cell_type": "code",
      "source": [
        "df_long['Year'] = df_long['Year'].str.extract('(\\d+)').dropna().astype(int)"
      ],
      "metadata": {
        "colab": {
          "base_uri": "https://localhost:8080/"
        },
        "id": "RqVjxuBXsVPM",
        "outputId": "31e76b19-0b90-4511-e510-c925e8ad8360"
      },
      "execution_count": 31,
      "outputs": [
        {
          "output_type": "stream",
          "name": "stderr",
          "text": [
            "<>:1: SyntaxWarning: invalid escape sequence '\\d'\n",
            "<>:1: SyntaxWarning: invalid escape sequence '\\d'\n",
            "/tmp/ipython-input-4166570774.py:1: SyntaxWarning: invalid escape sequence '\\d'\n",
            "  df_long['Year'] = df_long['Year'].str.extract('(\\d+)').dropna().astype(int)\n"
          ]
        }
      ]
    },
    {
      "cell_type": "markdown",
      "source": [
        "Select a specific country and draw a population graph by year. (i will choose Turkey)"
      ],
      "metadata": {
        "id": "skY0IaoSlmvF"
      }
    },
    {
      "cell_type": "code",
      "source": [
        "turkey_data = df_long[df_long['Country/Territory'] == 'Turkey']\n",
        "plt.figure(figsize=(10,5))\n",
        "plt.plot(turkey_data['Year'], turkey_data['Population'], marker='o')\n",
        "plt.title(\"Turkey - Population Growth\")\n",
        "plt.xlabel(\"Year\")\n",
        "plt.ylabel(\"Population\")\n",
        "plt.grid(True)\n",
        "plt.show()\n"
      ],
      "metadata": {
        "colab": {
          "base_uri": "https://localhost:8080/",
          "height": 487
        },
        "id": "PEOXYoIPl2-e",
        "outputId": "0dacd81f-141e-4c00-99f2-f60fc212344f"
      },
      "execution_count": 32,
      "outputs": [
        {
          "output_type": "display_data",
          "data": {
            "text/plain": [
              "<Figure size 1000x500 with 1 Axes>"
            ],
            "image/png": "[encoded data removed]"
          },
          "metadata": {}
        }
      ]
    },
    {
      "cell_type": "markdown",
      "source": [
        "the five countries with the highest populations"
      ],
      "metadata": {
        "id": "0RUvuy5amkB1"
      }
    },
    {
      "cell_type": "code",
      "source": [
        "latest_year = df_long['Year'].max()\n",
        "top5 = df_long[df_long['Year'] == latest_year].sort_values(by=\"Population\", ascending=False).head(5)\n",
        "print(f\"\\n{latest_year} yılında en yüksek nüfuslu 5 ülke:\")\n",
        "print(top5[['Country/Territory','Population']])"
      ],
      "metadata": {
        "colab": {
          "base_uri": "https://localhost:8080/"
        },
        "id": "fAKMHOhNrroa",
        "outputId": "7246d834-750b-4100-c487-de87c23f53cd"
      },
      "execution_count": 34,
      "outputs": [
        {
          "output_type": "stream",
          "name": "stdout",
          "text": [
            "\n",
            "2022.0 yılında en yüksek nüfuslu 5 ülke:\n",
            "    Country/Territory    Population\n",
            "41              China  1.425887e+09\n",
            "92              India  1.417173e+09\n",
            "221     United States  3.382899e+08\n",
            "93          Indonesia  2.755013e+08\n",
            "156          Pakistan  2.358249e+08\n"
          ]
        }
      ]
    }
  ]
}